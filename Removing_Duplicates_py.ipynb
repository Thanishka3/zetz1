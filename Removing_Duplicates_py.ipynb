{
  "nbformat": 4,
  "nbformat_minor": 0,
  "metadata": {
    "colab": {
      "provenance": [],
      "authorship_tag": "ABX9TyNfcvzqf7OaoDN+p8hVe6ds",
      "include_colab_link": true
    },
    "kernelspec": {
      "name": "python3",
      "display_name": "Python 3"
    },
    "language_info": {
      "name": "python"
    }
  },
  "cells": [
    {
      "cell_type": "markdown",
      "metadata": {
        "id": "view-in-github",
        "colab_type": "text"
      },
      "source": [
        "<a href=\"https://colab.research.google.com/github/Thanishka3/zetz1/blob/main/Removing_Duplicates_py.ipynb\" target=\"_parent\"><img src=\"https://colab.research.google.com/assets/colab-badge.svg\" alt=\"Open In Colab\"/></a>"
      ]
    },
    {
      "cell_type": "code",
      "execution_count": 6,
      "metadata": {
        "colab": {
          "base_uri": "https://localhost:8080/"
        },
        "id": "orQOhSATUJ-o",
        "outputId": "949b03e5-6226-48aa-e46c-3eade80c9df2"
      },
      "outputs": [
        {
          "output_type": "stream",
          "name": "stdout",
          "text": [
            "Original Dataframe with Missing Values:\n",
            "    Age  Height  HelmetStatus Gender  Experience\n",
            "0  25.0     5.5           1.0      M         2.0\n",
            "1   NaN     6.1           NaN      F         4.0\n",
            "2  30.0     5.9           1.0      M         6.0\n",
            "3  35.0     NaN           0.0   None         1.0\n",
            "4   NaN     5.8           1.0      F         NaN\n",
            "5   4.5     5.2           1.0      M         NaN\n",
            "\n",
            "DataFrame After Replacing Missing Values with mean:\n",
            "      Age  Height  HelmetStatus Gender  Experience\n",
            "0  25.000     5.5           1.0      M        2.00\n",
            "1  23.625     6.1           NaN      F        4.00\n",
            "2  30.000     5.9           1.0      M        6.00\n",
            "3  35.000     5.7           0.0   None        1.00\n",
            "4  23.625     5.8           1.0      F        3.25\n",
            "5   4.500     5.2           1.0      M        3.25\n",
            "\n",
            "dataFrame After Replacing Missing Values with Median:\n",
            "    Age  Height  HelmetStatus Gender  Experience\n",
            "0  25.0     5.5           1.0      M         2.0\n",
            "1  27.5     6.1           NaN      F         4.0\n",
            "2  30.0     5.9           1.0      M         6.0\n",
            "3  35.0     5.8           0.0   None         1.0\n",
            "4  27.5     5.8           1.0      F         3.0\n",
            "5   4.5     5.2           1.0      M         3.0\n",
            "\n",
            "DataFrame After Replacing Missing values with Modde:\n",
            "    Age  Height  HelmetStatus Gender  Experience\n",
            "0  25.0     5.5           1.0      M         2.0\n",
            "1   NaN     6.1           NaN      F         4.0\n",
            "2  30.0     5.9           1.0      M         6.0\n",
            "3  35.0     NaN           0.0    NaN         1.0\n",
            "4   NaN     5.8           1.0      F         NaN\n",
            "5   4.5     5.2           1.0      M         NaN\n"
          ]
        },
        {
          "output_type": "stream",
          "name": "stderr",
          "text": [
            "<ipython-input-6-627dd6b23572>:15: FutureWarning: A value is trying to be set on a copy of a DataFrame or Series through chained assignment using an inplace method.\n",
            "The behavior will change in pandas 3.0. This inplace method will never work because the intermediate object on which we are setting values always behaves as a copy.\n",
            "\n",
            "For example, when doing 'df[col].method(value, inplace=True)', try using 'df.method({col: value}, inplace=True)' or df[col] = df[col].method(value) instead, to perform the operation inplace on the original object.\n",
            "\n",
            "\n",
            "  df_filled_mean['Age'].fillna(df['Age'].mean(),inplace=True)\n",
            "<ipython-input-6-627dd6b23572>:16: FutureWarning: A value is trying to be set on a copy of a DataFrame or Series through chained assignment using an inplace method.\n",
            "The behavior will change in pandas 3.0. This inplace method will never work because the intermediate object on which we are setting values always behaves as a copy.\n",
            "\n",
            "For example, when doing 'df[col].method(value, inplace=True)', try using 'df.method({col: value}, inplace=True)' or df[col] = df[col].method(value) instead, to perform the operation inplace on the original object.\n",
            "\n",
            "\n",
            "  df_filled_mean['Height'].fillna(df['Height'].mean(),inplace=True)\n",
            "<ipython-input-6-627dd6b23572>:17: FutureWarning: A value is trying to be set on a copy of a DataFrame or Series through chained assignment using an inplace method.\n",
            "The behavior will change in pandas 3.0. This inplace method will never work because the intermediate object on which we are setting values always behaves as a copy.\n",
            "\n",
            "For example, when doing 'df[col].method(value, inplace=True)', try using 'df.method({col: value}, inplace=True)' or df[col] = df[col].method(value) instead, to perform the operation inplace on the original object.\n",
            "\n",
            "\n",
            "  df_filled_mean['Experience'].fillna(df['Experience'].mean(),inplace=True)\n",
            "<ipython-input-6-627dd6b23572>:18: FutureWarning: A value is trying to be set on a copy of a DataFrame or Series through chained assignment using an inplace method.\n",
            "The behavior will change in pandas 3.0. This inplace method will never work because the intermediate object on which we are setting values always behaves as a copy.\n",
            "\n",
            "For example, when doing 'df[col].method(value, inplace=True)', try using 'df.method({col: value}, inplace=True)' or df[col] = df[col].method(value) instead, to perform the operation inplace on the original object.\n",
            "\n",
            "\n",
            "  df_filled_median['Age'].fillna(df['Age'].median(),inplace=True)\n",
            "<ipython-input-6-627dd6b23572>:19: FutureWarning: A value is trying to be set on a copy of a DataFrame or Series through chained assignment using an inplace method.\n",
            "The behavior will change in pandas 3.0. This inplace method will never work because the intermediate object on which we are setting values always behaves as a copy.\n",
            "\n",
            "For example, when doing 'df[col].method(value, inplace=True)', try using 'df.method({col: value}, inplace=True)' or df[col] = df[col].method(value) instead, to perform the operation inplace on the original object.\n",
            "\n",
            "\n",
            "  df_filled_median['Height'].fillna(df['Height'].median(),inplace=True)\n",
            "<ipython-input-6-627dd6b23572>:20: FutureWarning: A value is trying to be set on a copy of a DataFrame or Series through chained assignment using an inplace method.\n",
            "The behavior will change in pandas 3.0. This inplace method will never work because the intermediate object on which we are setting values always behaves as a copy.\n",
            "\n",
            "For example, when doing 'df[col].method(value, inplace=True)', try using 'df.method({col: value}, inplace=True)' or df[col] = df[col].method(value) instead, to perform the operation inplace on the original object.\n",
            "\n",
            "\n",
            "  df_filled_median['Experience'].fillna(df['Experience'].median(),inplace=True)\n",
            "<ipython-input-6-627dd6b23572>:21: FutureWarning: A value is trying to be set on a copy of a DataFrame or Series through chained assignment using an inplace method.\n",
            "The behavior will change in pandas 3.0. This inplace method will never work because the intermediate object on which we are setting values always behaves as a copy.\n",
            "\n",
            "For example, when doing 'df[col].method(value, inplace=True)', try using 'df.method({col: value}, inplace=True)' or df[col] = df[col].method(value) instead, to perform the operation inplace on the original object.\n",
            "\n",
            "\n",
            "  df_filled_mode['Gender'].fillna(df['Gender'].mode(),inplace=True)\n",
            "<ipython-input-6-627dd6b23572>:22: FutureWarning: A value is trying to be set on a copy of a DataFrame or Series through chained assignment using an inplace method.\n",
            "The behavior will change in pandas 3.0. This inplace method will never work because the intermediate object on which we are setting values always behaves as a copy.\n",
            "\n",
            "For example, when doing 'df[col].method(value, inplace=True)', try using 'df.method({col: value}, inplace=True)' or df[col] = df[col].method(value) instead, to perform the operation inplace on the original object.\n",
            "\n",
            "\n",
            "  df_filled_mode['HelmetStatus'].fillna(df['HelmetStatus'].mode(),inplace=True)\n"
          ]
        }
      ],
      "source": [
        "import pandas as pd\n",
        "data={\n",
        "    'Age':[25,None,30,35,None,4.5],\n",
        "    'Height':[5.5,6.1,5.9,None,5.8,5.2],\n",
        "    'HelmetStatus':[1,None,1,0,1,1],\n",
        "    'Gender':['M','F','M',None,'F','M'],\n",
        "    'Experience':[2,4,6,1,None,None]\n",
        "}\n",
        "df=pd.DataFrame(data)\n",
        "print(\"Original Dataframe with Missing Values:\")\n",
        "print(df)\n",
        "df_filled_mean=df.copy()\n",
        "df_filled_median=df.copy()\n",
        "df_filled_mode=df.copy()\n",
        "df_filled_mean['Age'].fillna(df['Age'].mean(),inplace=True)\n",
        "df_filled_mean['Height'].fillna(df['Height'].mean(),inplace=True)\n",
        "df_filled_mean['Experience'].fillna(df['Experience'].mean(),inplace=True)\n",
        "df_filled_median['Age'].fillna(df['Age'].median(),inplace=True)\n",
        "df_filled_median['Height'].fillna(df['Height'].median(),inplace=True)\n",
        "df_filled_median['Experience'].fillna(df['Experience'].median(),inplace=True)\n",
        "df_filled_mode['Gender'].fillna(df['Gender'].mode(),inplace=True)\n",
        "df_filled_mode['HelmetStatus'].fillna(df['HelmetStatus'].mode(),inplace=True)\n",
        "print(\"\\nDataFrame After Replacing Missing Values with mean:\")\n",
        "print(df_filled_mean)\n",
        "print(\"\\ndataFrame After Replacing Missing Values with Median:\")\n",
        "print(df_filled_median)\n",
        "print(\"\\nDataFrame After Replacing Missing values with Modde:\")\n",
        "print(df_filled_mode)\n",
        "\n"
      ]
    },
    {
      "cell_type": "code",
      "source": [
        "import pandas as pd\n",
        "data={\n",
        "    'Name':['Alice','Bob','Alice','Charlie','Bob'],\n",
        "    'Age':[25,30,25,35,30],\n",
        "    'City':['Hyderabad','LosAngels','Hyderabad','Chicago','LosAngels']\n",
        "}\n",
        "df=pd.DataFrame(data)\n",
        "print(\"Original DataFrame:\")\n",
        "print(df)\n",
        "duplicates=df[df.duplicated()]\n",
        "print(\"\\nIdentified Duplicates:\")\n",
        "print(duplicates)\n"
      ],
      "metadata": {
        "colab": {
          "base_uri": "https://localhost:8080/"
        },
        "id": "8e_R3RsTfJKF",
        "outputId": "dc4b7441-f6b0-4007-be01-233a3885c566"
      },
      "execution_count": 8,
      "outputs": [
        {
          "output_type": "stream",
          "name": "stdout",
          "text": [
            "Original DataFrame:\n",
            "      Name  Age       City\n",
            "0    Alice   25  Hyderabad\n",
            "1      Bob   30  LosAngels\n",
            "2    Alice   25  Hyderabad\n",
            "3  Charlie   35    Chicago\n",
            "4      Bob   30  LosAngels\n",
            "\n",
            "Identified Duplicates:\n",
            "    Name  Age       City\n",
            "2  Alice   25  Hyderabad\n",
            "4    Bob   30  LosAngels\n"
          ]
        }
      ]
    }
  ]
}