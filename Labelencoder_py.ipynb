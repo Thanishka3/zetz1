{
  "nbformat": 4,
  "nbformat_minor": 0,
  "metadata": {
    "colab": {
      "provenance": [],
      "authorship_tag": "ABX9TyNZe2hTlUDvtjzFYbTsIYOd",
      "include_colab_link": true
    },
    "kernelspec": {
      "name": "python3",
      "display_name": "Python 3"
    },
    "language_info": {
      "name": "python"
    }
  },
  "cells": [
    {
      "cell_type": "markdown",
      "metadata": {
        "id": "view-in-github",
        "colab_type": "text"
      },
      "source": [
        "<a href=\"https://colab.research.google.com/github/Thanishka3/zetz1/blob/main/Labelencoder_py.ipynb\" target=\"_parent\"><img src=\"https://colab.research.google.com/assets/colab-badge.svg\" alt=\"Open In Colab\"/></a>"
      ]
    },
    {
      "cell_type": "code",
      "execution_count": 8,
      "metadata": {
        "colab": {
          "base_uri": "https://localhost:8080/"
        },
        "id": "WmUNzMZyVJDI",
        "outputId": "92f8a805-02bd-44fe-f76d-6c3120e3eff0"
      },
      "outputs": [
        {
          "output_type": "stream",
          "name": "stdout",
          "text": [
            "   cutomer_id  gender susbcription_status\n",
            "0           1    Male              Active\n",
            "1           2  Female            Inactive\n",
            "2           3  Female              Active\n",
            "3           4    Male            Inactive\n"
          ]
        }
      ],
      "source": [
        "import pandas as pd\n",
        "from sklearn.preprocessing import LabelEncoder\n",
        "data = {\n",
        "    \"cutomer_id\": [1, 2, 3, 4],\n",
        "    \"gender\": ['Male', 'Female', 'Female', 'Male'],\n",
        "    \"susbcription_status\": ['Active', 'Inactive', 'Active', 'Inactive']\n",
        "}\n",
        "df = pd.DataFrame(data)\n",
        "print(df)\n",
        "le=LabelEncoder()\n",
        "df['gender_encoded'] = le.fit_transform(df['gender'])\n",
        "df['subscription_status_encoded'] = le.fit_transform(df['susbcription_status'])"
      ]
    }
  ]
}