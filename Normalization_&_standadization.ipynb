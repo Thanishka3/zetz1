{
  "nbformat": 4,
  "nbformat_minor": 0,
  "metadata": {
    "colab": {
      "provenance": [],
      "authorship_tag": "ABX9TyPYl86GjGOe9p+UQXcJjriD",
      "include_colab_link": true
    },
    "kernelspec": {
      "name": "python3",
      "display_name": "Python 3"
    },
    "language_info": {
      "name": "python"
    }
  },
  "cells": [
    {
      "cell_type": "markdown",
      "metadata": {
        "id": "view-in-github",
        "colab_type": "text"
      },
      "source": [
        "<a href=\"https://colab.research.google.com/github/Thanishka3/zetz1/blob/main/Normalization_%26_standadization.ipynb\" target=\"_parent\"><img src=\"https://colab.research.google.com/assets/colab-badge.svg\" alt=\"Open In Colab\"/></a>"
      ]
    },
    {
      "cell_type": "code",
      "execution_count": 3,
      "metadata": {
        "colab": {
          "base_uri": "https://localhost:8080/"
        },
        "id": "wFIlpBvGNaUb",
        "outputId": "b4c75a82-4ece-487d-f862-477ac458b8d4"
      },
      "outputs": [
        {
          "output_type": "stream",
          "name": "stdout",
          "text": [
            "\n",
            "Normalized DataFrame (scaled to range [0, 1]):\n",
            "    age  income  experience\n",
            "0  0.00    0.00        0.00\n",
            "1  0.25    0.25        0.25\n",
            "2  0.50    0.50        0.50\n",
            "3  0.75    0.75        0.75\n",
            "4  1.00    1.00        1.00\n"
          ]
        }
      ],
      "source": [
        "import pandas as pd\n",
        "from sklearn.preprocessing import MinMaxScaler\n",
        "data = {'age': [25, 30, 35, 40, 45],\n",
        "        'income': [50000, 60000, 70000, 80000, 90000],\n",
        "        'experience': [2, 5, 8, 11, 14]}\n",
        "df = pd.DataFrame(data)\n",
        "\n",
        "# Assuming your data is in a pandas DataFrame called 'df'\n",
        "# and you want to normalize all columns\n",
        "\n",
        "# Create a MinMaxScaler object\n",
        "scaler = MinMaxScaler()\n",
        "\n",
        "# Fit the scaler to your data and transform it\n",
        "normalized_data = scaler.fit_transform(df)\n",
        "\n",
        "# Create a new DataFrame with the normalized data\n",
        "normalized_df = pd.DataFrame(normalized_data, columns=df.columns)\n",
        "\n",
        "# Print the normalized DataFrame\n",
        "print(\"\\nNormalized DataFrame (scaled to range [0, 1]):\")\n",
        "print(normalized_df)\n",
        "\n"
      ]
    },
    {
      "cell_type": "code",
      "source": [
        "import pandas as pd\n",
        "from sklearn.preprocessing import StandardScaler\n",
        "\n",
        "\n",
        "\n",
        "# Create a DataFrame with some sample data\n",
        "data = {'age': [25, 30, 35, 40, 45],\n",
        "        'income': [50000, 60000, 70000, 80000, 90000],\n",
        "        'experience': [2, 5, 8, 11, 14]}\n",
        "df = pd.DataFrame(data)\n",
        "scaler = StandardScaler()\n",
        "\n",
        "# Fit the scaler to your data and transform it\n",
        "standardized_data = scaler.fit_transform(df)\n",
        "\n",
        "# Create a new DataFrame with the standardized data\n",
        "standardized_df = pd.DataFrame(standardized_data, columns=df.columns)\n",
        "\n",
        "# Print the standardized DataFrame\n",
        "print(\"\\nStandardized DataFrame (mean=0, std=1):\")\n",
        "print(standardized_df)\n",
        "\n",
        "# Display the DataFrame\n"
      ],
      "metadata": {
        "colab": {
          "base_uri": "https://localhost:8080/"
        },
        "id": "7Ge0DIkYVjT0",
        "outputId": "0e183698-0b44-4e74-fe1f-7a835d534656"
      },
      "execution_count": 4,
      "outputs": [
        {
          "output_type": "stream",
          "name": "stdout",
          "text": [
            "\n",
            "Standardized DataFrame (mean=0, std=1):\n",
            "        age    income  experience\n",
            "0 -1.414214 -1.414214   -1.414214\n",
            "1 -0.707107 -0.707107   -0.707107\n",
            "2  0.000000  0.000000    0.000000\n",
            "3  0.707107  0.707107    0.707107\n",
            "4  1.414214  1.414214    1.414214\n"
          ]
        }
      ]
    }
  ]
}