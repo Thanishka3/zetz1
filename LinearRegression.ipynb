{
  "nbformat": 4,
  "nbformat_minor": 0,
  "metadata": {
    "colab": {
      "provenance": [],
      "authorship_tag": "ABX9TyO+QCh8SRm4pYeKIAMLRyQ+",
      "include_colab_link": true
    },
    "kernelspec": {
      "name": "python3",
      "display_name": "Python 3"
    },
    "language_info": {
      "name": "python"
    }
  },
  "cells": [
    {
      "cell_type": "markdown",
      "metadata": {
        "id": "view-in-github",
        "colab_type": "text"
      },
      "source": [
        "<a href=\"https://colab.research.google.com/github/Thanishka3/zetz1/blob/main/LinearRegression.ipynb\" target=\"_parent\"><img src=\"https://colab.research.google.com/assets/colab-badge.svg\" alt=\"Open In Colab\"/></a>"
      ]
    },
    {
      "cell_type": "code",
      "execution_count": 1,
      "metadata": {
        "colab": {
          "base_uri": "https://localhost:8080/"
        },
        "id": "k66PltYjXQAJ",
        "outputId": "218abcd2-a690-4440-c912-39f37aab159c"
      },
      "outputs": [
        {
          "output_type": "stream",
          "name": "stdout",
          "text": [
            "The total taxi fare for 10 km is: 25\n"
          ]
        }
      ],
      "source": [
        "def calculate_taxi_fare(x):\n",
        "  \"\"\"\n",
        "  Calculates the taxi fare based on distance traveled.\n",
        "\n",
        "  Args:\n",
        "    x: The number of kilometers traveled.\n",
        "\n",
        "  Returns:\n",
        "    The total taxi fare.\n",
        "  \"\"\"\n",
        "  m = 2  # Rate per kilometer\n",
        "  c = 5  # Fixed price\n",
        "  y = m * x + c  # Calculate total fare\n",
        "  return y\n",
        "\n",
        "# Example usage\n",
        "distance_traveled = 10  # Example distance in kilometers\n",
        "fare = calculate_taxi_fare(distance_traveled)\n",
        "\n",
        "print(f\"The total taxi fare for {distance_traveled} km is: {fare}\")\n"
      ]
    },
    {
      "cell_type": "code",
      "source": [],
      "metadata": {
        "id": "7Z333FgnhS8Q"
      },
      "execution_count": null,
      "outputs": []
    }
  ]
}